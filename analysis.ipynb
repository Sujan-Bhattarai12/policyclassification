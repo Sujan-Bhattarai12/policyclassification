import os
import re
import sqlite3
import pytesseract
import email
import openai
import nltk
from pdf2image import convert_from_path
from PyPDF2 import PdfReader
from email import policy
from nltk.corpus import stopwords
from nltk.stem import WordNetLemmatizer

# Download required NLTK data
nltk.download('stopwords')
nltk.download('wordnet')

# PDF and OCR Processing
def pdf_to_text(pdf_path):
    text = ""
    try:
        reader = PdfReader(pdf_path)
        for page in reader.pages:
            page_text = page.extract_text()
            if page_text:
                text += page_text
    except:
        images = convert_from_path(pdf_path)
        for img in images:
            text += pytesseract.image_to_string(img)
    return text

# Email Parsing
def parse_email(file_path):
    with open(file_path, 'r', encoding='utf-8') as f:
        msg = email.message_from_file(f, policy=policy.default)
        if msg.is_multipart():
            parts = msg.walk()
            for part in parts:
                if part.get_content_type() == 'text/plain':
                    return part.get_payload(decode=True).decode()
        else:
            return msg.get_payload(decode=True).decode()

# Text Cleaning & NLP Preprocessing
def clean_text(text):
    text = re.sub(r'\s+', ' ', text)
    text = re.sub(r'[^\w\s]', '', text)
    text = text.lower()
    stop_words = set(stopwords.words('english'))
    words = text.split()
    words = [word for word in words if word not in stop_words]
    lemmatizer = WordNetLemmatizer()
    words = [lemmatizer.lemmatize(word) for word in words]
    return ' '.join(words)

# SQL ETL Module
def init_db(db_name='policy_data.db'):
    conn = sqlite3.connect(db_name)
    c = conn.cursor()
    c.execute('''CREATE TABLE IF NOT EXISTS policies
                 (id INTEGER PRIMARY KEY AUTOINCREMENT, 
                  title TEXT, 
                  raw_text TEXT, 
                  cleaned_text TEXT, 
                  classification TEXT,
                  summary TEXT)''')
    conn.commit()
    return conn

def insert_policy(conn, title, raw_text, cleaned_text, classification, summary):
    c = conn.cursor()
    c.execute("INSERT INTO policies (title, raw_text, cleaned_text, classification, summary) VALUES (?, ?, ?, ?, ?)", 
              (title, raw_text, cleaned_text, classification, summary))
    conn.commit()

# LLM Integration (OpenAI API)
openai.api_key = 'YOUR_API_KEY'

def classify_policy(text):
    prompt = f"Classify this environmental policy: {text[:1000]}"
    response = openai.ChatCompletion.create(
        model="gpt-4",
        messages=[
            {"role": "system", "content": "You are an expert in environmental law."},
            {"role": "user", "content": prompt}
        ]
    )
    return response['choices'][0]['message']['content']

def summarize_policy(text):
    prompt = f"Summarize the key regulatory clauses in this policy: {text[:1000]}"
    response = openai.ChatCompletion.create(
        model="gpt-4",
        messages=[
            {"role": "system", "content": "You are an expert in summarizing environmental policy."},
            {"role": "user", "content": prompt}
        ]
    )
    return response['choices'][0]['message']['content']

# Main Pipeline Execution
def main():
    # Input PDF or Email file path
    pdf_file = "example_policy.pdf"
    email_file = "example_email.eml"

    # Process PDF
    if os.path.exists(pdf_file):
        print("Processing PDF...")
        text_data = pdf_to_text(pdf_file)
    elif os.path.exists(email_file):
        print("Processing Email...")
        text_data = parse_email(email_file)
    else:
        print("No input files found.")
        return

    cleaned = clean_text(text_data)

    conn = init_db()

    print("Classifying policy...")
    classification = classify_policy(cleaned)

    print("Summarizing policy...")
    summary = summarize_policy(cleaned)

    insert_policy(conn, "Example Policy", text_data, cleaned, classification, summary)

    print("Policy inserted into database.")
    print("Classification:", classification)
    print("Summary:", summary)

if __name__ == "__main__":
    main()
